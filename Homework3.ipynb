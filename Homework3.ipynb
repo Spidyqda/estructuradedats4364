{
 "cells": [
  {
   "cell_type": "markdown",
   "metadata": {},
   "source": [
    "# Mateo Ruiz Dávila 00212195"
   ]
  },
  {
   "cell_type": "markdown",
   "metadata": {},
   "source": [
    "## Verdadero o falso con argumentos"
   ]
  },
  {
   "cell_type": "markdown",
   "metadata": {},
   "source": [
    "### 1.  Una función recursiva resuelve un problema resolviendo una parte mas pequeña del mismo problema "
   ]
  },
  {
   "cell_type": "markdown",
   "metadata": {},
   "source": [
    "Una funcion recursiva es una funcion que se llama así misma como una subrutina, cada vez que hace esto reudce su problema en sub problemas hasta que etsos puedan ser resueltos sin mas recursividad"
   ]
  },
  {
   "cell_type": "markdown",
   "metadata": {},
   "source": [
    "### 2.  Los modelos computacionales nos ayudan a analizar la complejidad de los algoritmos, ya que nos proveen de las especificaciones de la computadora en la cual estos se ejecutarían idealmente"
   ]
  },
  {
   "cell_type": "markdown",
   "metadata": {},
   "source": [
    "Verdadero\n",
    "\n",
    "Los modelos de computación nos permite especificar las operaciones que puedes hacer en un algoritmo al igual que lo pueden llegar a costar, como su tiempo y memoria. La suma total del costo de todas estas operaciones nos da el coste del algoritmo"
   ]
  },
  {
   "cell_type": "markdown",
   "metadata": {},
   "source": [
    "### 3.  La búsqueda en un árbol binario de búsqueda es siempre mas rápida que la búsqueda lineal en un arreglo"
   ]
  },
  {
   "cell_type": "markdown",
   "metadata": {},
   "source": [
    "Falso\n",
    "\n",
    "Ya que la busqueda en un arbol binario tiene una complejidad de O(logn) mientras que la busqueda lineal de un arreglot iene una complejidad de O(n), sin embargo cuando la altura del arbol es igual al numero de nodos la busqueda tambien tendria una complejidad O(n)"
   ]
  },
  {
   "cell_type": "markdown",
   "metadata": {},
   "source": [
    "### 4. Un algoritmo de complejidad O(nlog(n)) es mas rápido que un algoritmo de complejidad O(n) "
   ]
  },
  {
   "cell_type": "markdown",
   "metadata": {},
   "source": [
    "Falso\n",
    "\n",
    "\n",
    "Graficamente sabemos que O(nlogn) es mucho mayor que O(n), por tanto O(nlgn) tomara mas tiempo para resolver x problema a comparacion a la complejidad O(n)"
   ]
  },
  {
   "cell_type": "markdown",
   "metadata": {},
   "source": [
    "### 5.  Un algoritmo de complejidad Ω(nlog(n)) es mas rápido que un algoritmo de complejidad Ω(n)"
   ]
  },
  {
   "cell_type": "markdown",
   "metadata": {},
   "source": [
    "\n",
    "Verdadero\n",
    "\n",
    "Ya que en la parte inferior se puede observar que omega(nlog(n)) es menor que la omega(n), demostrando que tarda menos en hacer el mismo numero de operaciones"
   ]
  },
  {
   "cell_type": "markdown",
   "metadata": {},
   "source": [
    "## Problemas de programación\n",
    "#### Todo el código debe ser en Python. Si se requiere escribir funciones que hagan búsqueda o ordenamiento (search, sort), programe las funciones usando los conceptos aprendidos en clase. No use las funciones que Python provee para hacer esto. "
   ]
  },
  {
   "cell_type": "markdown",
   "metadata": {},
   "source": [
    "### 6. Dada una lista enlazada que represente un número. Por ejemplo, 123 es representado por la lista 1->2->3 si la lista es simple o con doble enlace si es doble. Escriba un programa que haga lo siguiente:\n",
    "\n",
    "1. Reciba dos números A y B como input\n",
    "\n",
    "2. Transforme estos números a listas enlazadas como la definida arriba\n",
    "\n",
    "3. Implemente la resta de los números descritos por esas listas enlazadas. El resultado (A-B) debe ser almacenado en una lista enlazada.\n",
    "\n",
    "4. Imprima el resultado concatenando el valor de los nodos de la lista enlazada resultante\n",
    "\n",
    "Nota: asuma que el número A es mayor que B"
   ]
  },
  {
   "cell_type": "code",
   "execution_count": 47,
   "metadata": {},
   "outputs": [
    {
     "name": "stdout",
     "output_type": "stream",
     "text": [
      "111"
     ]
    }
   ],
   "source": [
    "class ListNode:\n",
    "    def __init__(self, val):\n",
    "        self.val = val\n",
    "        self.next = None\n",
    "\n",
    "\n",
    "def substractTwoNumbers(l1: ListNode, l2: ListNode) -> ListNode:   \n",
    "    head = None    \n",
    "    temp = None    \n",
    "    carry = 0    \n",
    "    while (l1 is not None) or (l2 is not None):       \n",
    "        sub_value = carry       \n",
    "        if l1 is not None:\n",
    "            sub_value += l1.val\n",
    "            l1 = l1.next\n",
    "        if l2 is not None:\n",
    "            sub_value -= l2.val\n",
    "            l2 = l2.next\n",
    "        node = ListNode(sub_value % 10)\n",
    "        carry = sub_value // 10  \n",
    "        if temp is None:\n",
    "            temp = head = node        \n",
    "        else:\n",
    "            temp.next = node\n",
    "            temp = temp.next    \n",
    "    if carry > 0:\n",
    "        temp.next = ListNode(carry)\n",
    "    return head\n",
    "\n",
    "\n",
    "head1 = ListNode(5)\n",
    "head1.next = ListNode(4)\n",
    "head1.next.next = ListNode(3)\n",
    "\n",
    "head2 = ListNode(4)\n",
    "head2.next = ListNode(3)\n",
    "head2.next.next = ListNode(2)\n",
    "\n",
    "result = substractTwoNumbers(head1, head2)\n",
    "while result is not None:\n",
    "    print(str(result.val), end=\"\")\n",
    "    result = result.next"
   ]
  },
  {
   "cell_type": "markdown",
   "metadata": {},
   "source": [
    "### 7.  Cuando introducimos el concepto de pilas (stacks), usamos como ejemplos una pila de platos. Siguiendo con el ejemplo, una pila de platos con muchos platos se puede caer. Para evitar esto, se puede empezar una nueva pila.\n",
    "\n",
    "Implemente una clase de Python que defina un arreglo de stacks. La idea de tener este arreglo es que cuando un stack alcance su capacidad máxima, un nuevo stack empieza en el mismo arreglo. Las operación pop() debe retornar el mismo valor que lo haría si estuviéramos usando un stack simple. \n",
    "\n",
    "Nota: Debe definir los elementos de la clase: el arreglo de stacks, la capacidad del arreglo (# de stacks en el arreglo), la capacidad de cada stack (# de elementos que puede tener el stack). \n",
    "\n",
    "Hint: Cuando ingrese elementos (push), los elementos van al stack que este activo (el stack que recibe y retira elementos). Debe manejar las condiciones para cambiar el stack activo (cuando un push() deja al stack sin elementos, o cuando un pop() llena el stack)."
   ]
  },
  {
   "cell_type": "code",
   "execution_count": 60,
   "metadata": {},
   "outputs": [],
   "source": [
    "#PROPIO\n",
    "class Stack:\n",
    "    def __init__(self, k, n):\n",
    "        self.size = n\n",
    "        self.stacks = k\n",
    "        self.arr = [None] * self.size\n",
    "        self.top = [-1] * self.stacks\n",
    "        self.TopEmpty = 0\n",
    "        self.next = [i+1 for i in range(self.size)]\n",
    "        self.next[self.size-1]= -1\n",
    "        #self.items == []\n",
    "    def is_empty(self, s):\n",
    "           return self.top[s] == []\n",
    "    def is_full(self):\n",
    "        return self.TopEmpty == []\n",
    "    def push(self, items, s):\n",
    "        if self.is_full():\n",
    "            print(\"Error\")\n",
    "      \n",
    "        self.TopEmpty = self.TopEmpty + 1\n",
    "        self.arr[self.TopEmpty] = items\n",
    "        self.next[self.TopEmpty] = self.top[s]\n",
    "        self.top[s] = self.TopEmpty\n",
    "        \n",
    "       \n",
    "    def pop(self, s):\n",
    "        if self.is_empty(s):\n",
    "            print(\"Error\")\n",
    "        \n",
    "        top = self.top[s]\n",
    "        self.top[s] = self.next[self.top[s]]\n",
    "        self.next[top] = self.TopEmpty\n",
    "        self.TopEmpty = top\n",
    "        return self.arr[top]\n",
    "    \n",
    "       \n",
    "    def print(self, s):\n",
    "        index = self.top[s]\n",
    "        while(index != -1):\n",
    "            print(self.arr[index])\n",
    "            index = self.next[index]\n",
    "\n"
   ]
  },
  {
   "cell_type": "markdown",
   "metadata": {},
   "source": [
    "### 8. Dada una cola con prioridad (PriorityQueue) que contiene elementos (k,v) donde k define la prioridad y v define el valor. Recuerde que los valores con menor k tienen mayor prioridad, es decir si tenemos dos elementos (k1, v1) y (k2, v2), v2 tiene preferencia para salir de la cola antes que v1 si k2< k1. Definimos algunas de las operaciones como siguen:\n",
    "\n",
    "```\n",
    "import ctypes\n",
    "\n",
    "class PriorityQueue(object):\n",
    "\n",
    "\"\"\"\n",
    "\n",
    "Implementation of the queue data structure\n",
    "\n",
    "\"\"\"\n",
    "\n",
    "def __init__(self, n):\n",
    "\n",
    "self.item_count = 0\n",
    "\n",
    "self.n = n\n",
    "\n",
    "self.queue = self._create_queue(self.n)\n",
    "\n",
    "def _create_queue(self, n):\n",
    "\n",
    "\"\"\"\n",
    "\n",
    "Creates a new stack of capacity n\n",
    "\n",
    "\"\"\"\n",
    "\n",
    "return (n * ctypes.py_object)()\n",
    "\n",
    "def dequeue(self):\n",
    "\n",
    "\"\"\"\n",
    "\n",
    "Remove an element from the queue\n",
    "\n",
    "\"\"\"\n",
    "\n",
    "c = self.queue[0]\n",
    "\n",
    "for i in range(1,self.item_count):\n",
    "\n",
    "self.queue[i-1] = self.queue[i]\n",
    "\n",
    "self.queue[self.item_count - 1] = ctypes.py_object\n",
    "\n",
    "self.item_count -= 1\n",
    "\n",
    "return c\n",
    "```\n",
    "\n",
    "### Implemente los métodos enqueue y decreaseKey, tal que ambos métodos tengan complejidad O(log(n)), sin utilizar funciones nativas de Python. Por ejemplo, si necesita hacer una búsqueda, no use la función de Python que implementa esto, programe la función usando for o while loops."
   ]
  },
  {
   "cell_type": "code",
   "execution_count": 41,
   "metadata": {},
   "outputs": [],
   "source": [
    "import ctypes\n",
    "\n",
    "class Node: \n",
    "    def __init__(self, val, priority):\n",
    "        self.val = val\n",
    "        self.priority = priority\n",
    "        \n",
    "class PriorityQueue(object):\n",
    "    def __init__(self, n):\n",
    "        self.item_count = 0\n",
    "        self.n = n\n",
    "        self.queue = self._create_queue(self.n)\n",
    "\n",
    "    def _create_queue(self, n):\n",
    "        return (n * ctypes.py_object)()\n",
    "    \n",
    "    def enqueue(self, node):\n",
    "        if (self.size == 0):\n",
    "            self.queue.append(node)\n",
    "        else:\n",
    "            while(i<self.size()):\n",
    "                if (self.queue[i].priority <= node.priority):\n",
    "                    if i == (self.size()-1):\n",
    "                        self.queue.enqueue(i+1, node)\n",
    "                else:\n",
    "                    self.queue.enqueue(i, node)\n",
    "                    return True\n",
    "                \n",
    "    def decreaseKey(self, val, priority):\n",
    "        upd = 0\n",
    "        if(self.size==0):\n",
    "            print(\"ERROR\")\n",
    "        else:\n",
    "            while(i<self.size()):\n",
    "                if self.queue[i] > self.queue[upd]:\n",
    "                    max = i\n",
    "            item = self.queue[max]\n",
    "            del self.queue[max]\n",
    "            return item\n",
    "        \n",
    "    def dequeue(self):\n",
    "        c = self.queue[0]\n",
    "        for i in range(1,self.item_count):\n",
    "            self.queue[i-1] = self.queue[i]\n",
    "            self.queue[self.item_count - 1] = ctypes.py_object\n",
    "            self.item_count -= 1\n",
    "        return c\n",
    "    \n",
    "    "
   ]
  },
  {
   "cell_type": "markdown",
   "metadata": {},
   "source": [
    "### 9. Tenemos un árbol binario (binary tree), definimos a un nodo X como rojo, si todos los nodos en el recorrido de la raiz al nodo X tienen un valor que es menor o igual a X. Por ejemplo, en el ejemplo de abajo:\n",
    "\n",
    "![](./binary_tree.png)\n",
    "\n",
    "El recorrido hacia el nodo 3 de la izquierda es 3 → 1 → 3, como todos los valores en este recorrido son menores o iguales a 3 (3=3 y 1<3), el nodo es rojo. Similarmente, en el sub-árbol de la derecha, los nodos 4 y 5 también son rojos. Escriba una función en Python que cuente el numero total de nodos rojos. El input de esta función es la raíz del árbol binario.\n",
    "\n",
    " "
   ]
  },
  {
   "cell_type": "code",
   "execution_count": 59,
   "metadata": {},
   "outputs": [
    {
     "name": "stdout",
     "output_type": "stream",
     "text": [
      "Hay  3  nodos rojos\n"
     ]
    }
   ],
   "source": [
    "class Node:\n",
    "    def __init__(self, x, left=None, right=None):\n",
    "        self.val = x\n",
    "        self.left = None\n",
    "        self.right = None\n",
    "        \n",
    "def contador(root, counter):\n",
    "    if root is not None:\n",
    "        if root.left and root.left.val >=3:\n",
    "            counter = contador(root.left, counter)\n",
    "        counter += 1\n",
    "        if root.right and root.right.val >=3:\n",
    "            counter = contador(root.right, counter)\n",
    "        return counter\n",
    "\n",
    "def main():\n",
    "    counter = 0\n",
    "    root = Node(3)\n",
    "    root.right = Node(4)\n",
    "    root.right.right = Node(5)\n",
    "    root.right.left = Node(1)\n",
    "    root.left = Node(1)\n",
    "    root.left.left = Node(3)\n",
    "    counter = contador(root, counter)\n",
    "    print(\"Hay \", counter, \" nodos rojos\")\n",
    "if __name__ == \"__main__\":\n",
    "    main()"
   ]
  },
  {
   "cell_type": "code",
   "execution_count": null,
   "metadata": {},
   "outputs": [],
   "source": []
  }
 ],
 "metadata": {
  "kernelspec": {
   "display_name": "Python 3",
   "language": "python",
   "name": "python3"
  },
  "language_info": {
   "codemirror_mode": {
    "name": "ipython",
    "version": 3
   },
   "file_extension": ".py",
   "mimetype": "text/x-python",
   "name": "python",
   "nbconvert_exporter": "python",
   "pygments_lexer": "ipython3",
   "version": "3.7.3"
  }
 },
 "nbformat": 4,
 "nbformat_minor": 5
}
