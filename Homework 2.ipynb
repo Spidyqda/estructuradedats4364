{
 "cells": [
  {
   "cell_type": "markdown",
   "metadata": {},
   "source": [
    "# Homework 2"
   ]
  },
  {
   "cell_type": "markdown",
   "metadata": {},
   "source": [
    "Mateo Ruiz Dávila\n",
    "00212195"
   ]
  },
  {
   "cell_type": "markdown",
   "metadata": {},
   "source": [
    "##  1. Given the following implementation of the class `PriorityQueue`, implement the methods:\n",
    "\n",
    "- `insert(v,k)` - add an element $v$ with priority $k$. Complexity $O(n)$\n",
    "- `deleteMin()` - remove the element with the lowest $k$ (highest priority). Complexity $O(1)$\n",
    "- `decreaseKey(v,k)` - decrease the value of $k$ (increase priority). Complexity $O(n)$\n",
    "\n",
    "**Show complexity analysis for each implementation**"
   ]
  },
  {
   "cell_type": "code",
   "execution_count": 10,
   "metadata": {},
   "outputs": [],
   "source": [
    "import heapq\n",
    "\n",
    "class PriorityQueue(object):\n",
    "    \"\"\"\n",
    "    Implementation of the queue data structure\n",
    "    \"\"\"\n",
    "\n",
    "    def __init__(self, n):\n",
    "        self.item_count = 0\n",
    "        self.n = n\n",
    "        self.queue = self._create_queue(self.n)        \n",
    "    \n",
    "    def _create_queue(self, n):\n",
    "        \"\"\"\n",
    "        Creates a new stack of capacity n\n",
    "        \"\"\"\n",
    "        return (n * ctypes.py_object)()\n",
    "    \n",
    "    def enqueue(self, item):\n",
    "        \"\"\"\n",
    "        Add new item to the queue\n",
    "        \"\"\"\n",
    "        if self.item_count == self.n:\n",
    "            raise ValueError(\"no more capacity\")\n",
    "        self.queue[self.item_count] = item\n",
    "        self.item_count += 1\n",
    "        \n",
    "    def add(self, item):\n",
    "        if item not in self.set:\n",
    "            self.set[item] = True\n",
    "            heapq.heappush(self.heap, item) \n",
    "            \n",
    "    def getMin(self):\n",
    "        minn = heapq.heappop(self.heap)\n",
    "        return minn\n",
    "    \n",
    "    \n",
    "    def deleteMin(self):\n",
    "        try:\n",
    "            max = 0\n",
    "            for i in range(len(self.queue)):\n",
    "                if self.queue[i] > self.queue[max]:\n",
    "                    max = i\n",
    "            item = self.queue[max]\n",
    "            del self.queue[max]\n",
    "            return item\n",
    "        except IndexError:\n",
    "            print()\n",
    "            exit()\n",
    "            \n",
    "    def push(self, item, k):\n",
    "            heapq.heappush(self._data, (-k, self._index, item))\n",
    "            self._index += 1"
   ]
  },
  {
   "cell_type": "markdown",
   "metadata": {},
   "source": [
    "## 2. You are given two non-negative integers in the form of two non-empty linked lists. The digits are stored in reverse order, and each nodes contains a single digit. Add the two numbers and return the sum as a linked list.\n",
    "\n",
    "For example:\n",
    "\n",
    "**Input:** \n",
    "- $L_1$ = 1 -> 4 -> 5\n",
    "- $L_2$ = 4 -> 3 -> 2\n",
    "\n",
    "**Output:**\n",
    "- $L_3$ = 5 -> 7 -> 7\n",
    "\n",
    "Note that, the problem is equivalent to adding: 541 + 234  =  775"
   ]
  },
  {
   "cell_type": "code",
   "execution_count": 4,
   "metadata": {},
   "outputs": [
    {
     "name": "stdout",
     "output_type": "stream",
     "text": [
      "5 7 7 "
     ]
    }
   ],
   "source": [
    "class ListNode:\n",
    "    def __init__(self, val):\n",
    "        self.val = val\n",
    "        self.next = None\n",
    "\n",
    "\n",
    "def addTwoNumbers(l1: ListNode, l2: ListNode) -> ListNode:\n",
    "    \n",
    "    head = None\n",
    "    \n",
    "    temp = None\n",
    "    \n",
    "    carry = 0\n",
    "    \n",
    "    while l1 is not None or l2 is not None:\n",
    "        \n",
    "        sum_value = carry\n",
    "        \n",
    "        if l1 is not None:\n",
    "            sum_value += l1.val\n",
    "            l1 = l1.next\n",
    "        if l2 is not None:\n",
    "            sum_value += l2.val\n",
    "            l2 = l2.next\n",
    "        \n",
    "        node = ListNode(sum_value % 10)\n",
    "        \n",
    "        carry = sum_value // 10\n",
    "        \n",
    "        if temp is None:\n",
    "            temp = head = node\n",
    "        \n",
    "        else:\n",
    "            temp.next = node\n",
    "            temp = temp.next\n",
    "    \n",
    "    if carry > 0:\n",
    "        temp.next = ListNode(carry)\n",
    "    return head\n",
    "\n",
    "\n",
    "head1 = ListNode(1)\n",
    "head1.next = ListNode(4)\n",
    "head1.next.next = ListNode(5)\n",
    "\n",
    "head2 = ListNode(4)\n",
    "head2.next = ListNode(3)\n",
    "head2.next.next = ListNode(2)\n",
    "\n",
    "result = addTwoNumbers(head1, head2)\n",
    "while result is not None:\n",
    "    print(str(result.val), end=\" \")\n",
    "    result = result.next"
   ]
  },
  {
   "cell_type": "markdown",
   "metadata": {},
   "source": [
    "## 3. Given a linked list, detect if the list has a cycle. If a cycle is detected, return the position of the node (with respect to the head) where the cycle starts.\n",
    "\n",
    "For example:\n",
    "\n",
    "![](./cycle.png)\n",
    "\n",
    "**Input:**\n",
    "- Jan -> Feb -> March -> Dec\n",
    "\n",
    "**Output:**\n",
    "- True\n",
    "- 2"
   ]
  },
  {
   "cell_type": "code",
   "execution_count": 8,
   "metadata": {},
   "outputs": [
    {
     "name": "stdout",
     "output_type": "stream",
     "text": [
      "True\n"
     ]
    }
   ],
   "source": [
    "class Node:\n",
    " \n",
    "    # Constructor to initialize\n",
    "    # the node object\n",
    "    def __init__(self, data):\n",
    "        self.data = data\n",
    "        self.next = None\n",
    " \n",
    " \n",
    "class LinkedList:\n",
    " \n",
    "    def __init__(self):\n",
    "        self.head = None\n",
    " \n",
    "\n",
    "    def push(self, new_data):\n",
    "        new_node = Node(new_data)\n",
    "        new_node.next = self.head\n",
    "        self.head = new_node\n",
    " \n",
    "\n",
    "    def printList(self):\n",
    "        temp = self.head\n",
    "        while(temp):\n",
    "            print(temp.data, end=\" \")\n",
    "            temp = temp.next\n",
    " \n",
    "    def detectLoop(self):\n",
    "        s = set()\n",
    "        temp = self.head\n",
    "        while (temp):\n",
    " \n",
    "            if (temp in s):\n",
    "                return True\n",
    " \n",
    "            s.add(temp)\n",
    " \n",
    "            temp = temp.next\n",
    " \n",
    "        return False\n",
    " \n",
    "\n",
    "llist = LinkedList()\n",
    "llist.push(\"Jan\")\n",
    "llist.push(\"Feb\")\n",
    "llist.push(\"March\")\n",
    "llist.push(\"Dec\")\n",
    " \n",
    "# Create a loop for testing\n",
    "llist.head.next.next.next.next = llist.head\n",
    " \n",
    "if(llist.detectLoop()):\n",
    "    print(True)\n",
    "else:\n",
    "    print(2)"
   ]
  },
  {
   "cell_type": "markdown",
   "metadata": {},
   "source": [
    "## 4.  CLRS 10.1-5\n",
    "pg. 236\n",
    "\n",
    "**Implement as a Python class**"
   ]
  },
  {
   "cell_type": "code",
   "execution_count": 1,
   "metadata": {},
   "outputs": [],
   "source": [
    "class Queue:\n",
    "    def Queue_empty(Q):\n",
    "        if (Q.head == Q.tail):\n",
    "            return True\n",
    "        else:\n",
    "            return False\n",
    "        \n",
    "    def Queue_full(Q):\n",
    "        if(Q.head == Q.tail + 1) or (Q.head == 1 and Q.tail == Q.length):\n",
    "            return True\n",
    "        else:\n",
    "            return False\n",
    "        \n",
    "    def head_enqueue(Q, x):\n",
    "        if(Queue_full(Q)):\n",
    "            print(\"Error- la cola ya esta llena\")\n",
    "        else:\n",
    "            if(Q.head ==1):\n",
    "                Q.head = Q.length\n",
    "            else:\n",
    "                Q.head = Q.head - 1\n",
    "                Q[Q.head] = x\n",
    "    def tail_enqueue(Q, x):\n",
    "        if(Queue_full(Q)):\n",
    "            print(\"Error- la cola ya esta llena\")\n",
    "        else:\n",
    "            Q[Q_tail] = x\n",
    "            if(Q.tail == Q.length):\n",
    "                Q.tail = 1\n",
    "            else:\n",
    "                Q.tail =  Q.tail + 1\n",
    "    def head_dequeue(Q, x):\n",
    "        if(Queue_empty(Q)):\n",
    "            print(\"Error- la cola ya esta llena\")\n",
    "        else:\n",
    "            x = Q[Q.head] \n",
    "            if(Q.head == Q.length):\n",
    "                Q.head = 1\n",
    "            else:\n",
    "                Q.head = Q.head + 1\n",
    "                return x\n",
    "    def tail_dequeue(Q, x):\n",
    "        if(Queue_empty(Q)):\n",
    "            print(\"Error- la cola ya esta llena\")\n",
    "        else:\n",
    "            if(Q.tail == 1):\n",
    "                Q.tail = Q.length\n",
    "            else:\n",
    "                Q.tail =  Q.tail -1\n",
    "                x = Q[Q.tail]\n",
    "                return x"
   ]
  },
  {
   "cell_type": "markdown",
   "metadata": {},
   "source": [
    "## 5.  CLRS 10.1-6\n",
    "pg. 236\n",
    "\n",
    "**Implement as a Python class**"
   ]
  },
  {
   "cell_type": "code",
   "execution_count": 5,
   "metadata": {},
   "outputs": [],
   "source": [
    "#Para analizar estas operaciones de fila definimos las siguientes\n",
    "#funciones\n",
    "\n",
    "#class QUEUE\n",
    "def enqueue(self, data):\n",
    "    self.items.append(data)\n",
    "def dequeue(self):\n",
    "    return self.items.pop(0)\n",
    "#--------------------\n",
    "class stack:\n",
    "    def iniciador(self):\n",
    "        self.queue1 = Queue()\n",
    "        self.queue2 = Queue()\n",
    "    def push(self, data):\n",
    "        self.queue1.enqueue(data)\n",
    "        while not self.queue2.Queue_empty():\n",
    "            x = self.queue2.dequeue()\n",
    "            self.queue1.eneuque(x)\n",
    "        self.queue1, self.queue2 = self.queue2, self.queue1\n",
    "    def pop(self):\n",
    "        return self.queue2.dequeue()"
   ]
  },
  {
   "cell_type": "markdown",
   "metadata": {},
   "source": [
    "Si tomamos en cuenta los stacks 1 y 2, podemos ver que el metodo enqueue empuja los elementos en 2, mientras que el metodo dequeue se encarga de eliminar los elementos de 1. Por tanto, si tenemos que si el stack 1 esta vacio el contenido del el stack 2 se ira a la 1 mostrando, por tanto podemos ver que la complejidad de dequeue es O(n) cuando uno de los dos stacks este vacio"
   ]
  },
  {
   "cell_type": "markdown",
   "metadata": {},
   "source": [
    "## 6.  CLRS 10.1-7\n",
    "pg. 236\n",
    "\n",
    "**Implement as a Python class**"
   ]
  },
  {
   "cell_type": "code",
   "execution_count": 7,
   "metadata": {},
   "outputs": [],
   "source": [
    "class Queue_stack:\n",
    "    def iniciador(self):\n",
    "        self.in_stack = Stack()\n",
    "        self.out_stack = Stack()\n",
    "    \n",
    "    def enqueue(self, x):\n",
    "        self.in_stack.push(x)\n",
    "    def dequeue(self):\n",
    "        if (self.out_stack.is_empty):\n",
    "            while (self.in_stack.size()>0):\n",
    "                self.out_stack.push(self.in_stack.pop())\n",
    "        return self.out_stack.items.pop()"
   ]
  },
  {
   "cell_type": "markdown",
   "metadata": {},
   "source": [
    "Aqui se puede apreciar el uso de los metodos push y pop donde push empuja a la fila y pop ocasiona el dequeue de un elemento de la fila activa y un elemento de la fila inactiva."
   ]
  }
 ],
 "metadata": {
  "kernelspec": {
   "display_name": "Python 3",
   "language": "python",
   "name": "python3"
  },
  "language_info": {
   "codemirror_mode": {
    "name": "ipython",
    "version": 3
   },
   "file_extension": ".py",
   "mimetype": "text/x-python",
   "name": "python",
   "nbconvert_exporter": "python",
   "pygments_lexer": "ipython3",
   "version": "3.7.3"
  }
 },
 "nbformat": 4,
 "nbformat_minor": 5
}
