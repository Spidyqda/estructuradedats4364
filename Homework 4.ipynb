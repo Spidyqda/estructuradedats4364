{
 "cells": [
  {
   "cell_type": "markdown",
   "id": "8d0a8bef",
   "metadata": {},
   "source": [
    "# Homework 3"
   ]
  },
  {
   "cell_type": "markdown",
   "id": "40bbef76",
   "metadata": {},
   "source": [
    "#### Mateo Ruiz\n",
    "#### 00212195"
   ]
  },
  {
   "cell_type": "markdown",
   "id": "35509289",
   "metadata": {},
   "source": [
    "## 1. [10 pts] Given a list of list of dimension m x n (2-D matrix) representing a map of '1's (land) and '0's (water), write a Python function that returns the number of islands and takes the matrix as input. \n",
    "\n",
    "- An island is surrounded by water and is formed by connecting adjacent lands horizontally or vertically.\\\n",
    "- Assume all four edges of the matrix are all surrounded by water.\n",
    "- Write an implementation for BFS and one for DFS\n",
    "\n",
    "\n",
    "Example:\n",
    "\n",
    "```\n",
    "Input: map = [\n",
    "  [\"1\",\"1\",\"0\",\"0\",\"0\"],\n",
    "  [\"1\",\"1\",\"0\",\"0\",\"0\"],\n",
    "  [\"0\",\"0\",\"1\",\"0\",\"0\"],\n",
    "  [\"0\",\"0\",\"0\",\"1\",\"1\"]\n",
    "]\n",
    "Output: 3\n",
    "```\n"
   ]
  },
  {
   "cell_type": "code",
   "execution_count": 10,
   "id": "910ca22f",
   "metadata": {},
   "outputs": [],
   "source": [
    "#Using DFs\n",
    "\n",
    "def isla(self, graph):    \n",
    "    count = 0\n",
    "    nRow =len(graph)\n",
    "    nCol = len(graph[0])\n",
    "    \n",
    "    def dfs(row, col):\n",
    "        if graph[row, col] == 0:\n",
    "            return False\n",
    "        if graph[row, col] == 1:\n",
    "            graph[row, col] = -1\n",
    "            dfs(row + 1, col)\n",
    "            dfs(row-1, col)\n",
    "            dfs(row, col+1)\n",
    "            dfs(row, col-1)\n",
    "            return True\n",
    "    \n",
    "    for i in range(nRow):\n",
    "        for j in range(nCol):\n",
    "            if dfs(row, col):\n",
    "                count += 1\n",
    "    return count"
   ]
  },
  {
   "cell_type": "code",
   "execution_count": 11,
   "id": "df959278",
   "metadata": {},
   "outputs": [],
   "source": [
    "#Using BFS\n",
    "from collections import deque\n",
    "def isla(self, graph):    \n",
    "    count = 0\n",
    "    nRow =len(graph)\n",
    "    nCol = len(graph[0])\n",
    "    \n",
    "    def bfs(row, col):\n",
    "        queue = deque()\n",
    "        queue.append((row, col))\n",
    "        while queue:\n",
    "            for i in range(len(queue)):\n",
    "                row, col = queue.pop()\n",
    "                for j, k in ((row +1, col),(row-1, col),(row, col+1), (row, col-1)):\n",
    "                    if(j<nRow and k <nCol and graph[j][k] == 1):\n",
    "                        queue.append((j,k))\n",
    "                        graph[j][k] = 0\n",
    "    for i in range(nRow):\n",
    "        for j in range(nCol):\n",
    "            if(graph[i][j] ==1):\n",
    "                bfs(i,j)\n",
    "                count+=1\n",
    "        \n",
    "    return count"
   ]
  },
  {
   "cell_type": "markdown",
   "id": "c244ed40",
   "metadata": {},
   "source": [
    "## 2. [5 pts] A perfect square is an integer that is the square of an integer; in other words, it is the product of some integer with itself. For example, 1, 4, 9, and 16 are perfect squares, and 2 and 5 are not perfect squares\n",
    "\n",
    "Use BFS and write a Python function that gets a number `n` as input and return the least number of perfect square numbers that sum to `n`\n",
    "\n",
    "Example 1:\n",
    "\n",
    "```\n",
    "Input: n = 12\n",
    "Output: 3\n",
    "Explanation: 12 = 4 + 4 + 4.\n",
    "```\n",
    "\n",
    "Example 2:\n",
    "```\n",
    "Input: n = 13\n",
    "Output: 2\n",
    "Explanation: 13 = 4 + 9.\n",
    "```\n",
    "\n",
    "\n",
    "**Hint 1:**\n",
    "\n",
    "You can build a graph (n-ary tree) using the input as the root, and the children the difference between the input and the perfect squares less or equal to the input. Each of the children can become the root of a subtree built using the same idea. For example, the graph below reflects the first level of the tree for `n=17`. \n",
    "\n",
    "![](./hint1.png)\n",
    "\n",
    "\n",
    "Once the graph is defined, you can run BFS"
   ]
  },
  {
   "cell_type": "code",
   "execution_count": 12,
   "id": "94bce7f8",
   "metadata": {},
   "outputs": [],
   "source": [
    "from collections import deque\n",
    "\n",
    "\n",
    "def bfs(visited, graph, nod, valor):\n",
    "    n = 0\n",
    "    resultado = 0\n",
    "    if node is None:\n",
    "        return -1\n",
    "    queue = deque()\n",
    "    visited.append(node)\n",
    "    queue.append(0, node)\n",
    "    lista = [0 for i in range(valor+1)]\n",
    "    while queue:\n",
    "        n, resultado = queue.pop()\n",
    "        if(n == 0):\n",
    "            return -1\n",
    "        for i in range(1, (n**0.5)+1):\n",
    "            if(list[n-i*i]!=1):\n",
    "                deque.append([n-i*i, resultado+1])\n",
    "            lista[n-i*i] = 1\n",
    "        return resultado\n",
    "            \n",
    "            \n",
    "    "
   ]
  },
  {
   "cell_type": "code",
   "execution_count": null,
   "id": "cf60671e",
   "metadata": {},
   "outputs": [],
   "source": []
  }
 ],
 "metadata": {
  "kernelspec": {
   "display_name": "Python 3 (ipykernel)",
   "language": "python",
   "name": "python3"
  },
  "language_info": {
   "codemirror_mode": {
    "name": "ipython",
    "version": 3
   },
   "file_extension": ".py",
   "mimetype": "text/x-python",
   "name": "python",
   "nbconvert_exporter": "python",
   "pygments_lexer": "ipython3",
   "version": "3.9.7"
  }
 },
 "nbformat": 4,
 "nbformat_minor": 5
}
